{
  "cells": [
    {
      "cell_type": "markdown",
      "metadata": {
        "id": "Qf7pnk9s8VwZ"
      },
      "source": [
        "# Desarrollo discriminador PatchGAN\n",
        "Notebook de desarrollo y pruebas del discriminador"
      ]
    },
    {
      "cell_type": "markdown",
      "metadata": {
        "id": "FL0UynauI9lm"
      },
      "source": [
        "### Preparar ambiente"
      ]
    },
    {
      "cell_type": "code",
      "execution_count": null,
      "metadata": {
        "colab": {
          "base_uri": "https://localhost:8080/"
        },
        "id": "l7PkGEUvH7Lc",
        "outputId": "7e9ee71c-4a17-4189-cc4d-2b2dfd1332ee"
      },
      "outputs": [
        {
          "name": "stdout",
          "output_type": "stream",
          "text": [
            "Device: cpu\n"
          ]
        }
      ],
      "source": [
        "import torch\n",
        "import torch.nn as nn\n",
        "import matplotlib.pyplot as plt\n",
        "import numpy as np\n",
        "\n",
        "device = torch.device('cuda' if torch.cuda.is_available() else 'cpu')\n",
        "print(f\"Device: {device}\")"
      ]
    },
    {
      "cell_type": "code",
      "execution_count": 4,
      "metadata": {
        "colab": {
          "base_uri": "https://localhost:8080/"
        },
        "id": "juaq4oeZIIqr",
        "outputId": "39595fea-eb60-49e3-ecaf-c4169a977281"
      },
      "outputs": [
        {
          "name": "stdout",
          "output_type": "stream",
          "text": [
            "Módulo importado correctamente\n",
            "Configuración recomendada: {'input_channels': 3, 'features': 64, 'learning_rate': 0.0002, 'betas': (0.5, 0.999), 'real_label': 0.9, 'fake_label': 0.0, 'gradient_clip': 1.0}\n"
          ]
        }
      ],
      "source": [
        "from discriminador import (\n",
        "    PatchGANDiscriminator,\n",
        "    DiscriminatorLoss,\n",
        "    init_discriminator_weights,\n",
        "    RECOMMENDED_CONFIG\n",
        ")\n",
        "\n",
        "print(\"Módulo importado correctamente\")\n",
        "print(f\"Configuración recomendada: {RECOMMENDED_CONFIG}\")"
      ]
    },
    {
      "cell_type": "markdown",
      "metadata": {
        "id": "EN0C7l-uJDdP"
      },
      "source": [
        "### Crear y probar discriminador"
      ]
    },
    {
      "cell_type": "code",
      "execution_count": 5,
      "metadata": {
        "colab": {
          "base_uri": "https://localhost:8080/"
        },
        "id": "9UgPihSUIYe4",
        "outputId": "132889bf-5f9d-4463-a00a-d8ff071e9b45"
      },
      "outputs": [
        {
          "name": "stdout",
          "output_type": "stream",
          "text": [
            "Discriminador creado\n",
            "   Parámetros: 2,765,633\n",
            "   Device: cpu\n"
          ]
        }
      ],
      "source": [
        "# Crear discriminador\n",
        "discriminator = PatchGANDiscriminator(\n",
        "    input_channels=3,\n",
        "    features=64\n",
        ").to(device)\n",
        "\n",
        "# Inicializar pesos\n",
        "init_discriminator_weights(discriminator)\n",
        "\n",
        "# Info del modelo\n",
        "print(f\"Discriminador creado\")\n",
        "print(f\"   Parámetros: {discriminator.get_num_params():,}\")\n",
        "print(f\"   Device: {next(discriminator.parameters()).device}\")"
      ]
    },
    {
      "cell_type": "markdown",
      "metadata": {
        "id": "aHFSJ6DgJLGP"
      },
      "source": [
        "### Pruebas con datos sintéticos"
      ]
    },
    {
      "cell_type": "code",
      "execution_count": 6,
      "metadata": {
        "colab": {
          "base_uri": "https://localhost:8080/"
        },
        "id": "r1-TmcMzJPrE",
        "outputId": "87f07f25-4f3d-4805-98d3-f2439cd98cd0"
      },
      "outputs": [
        {
          "name": "stdout",
          "output_type": "stream",
          "text": [
            "Forward pass exitoso\n",
            "   Input:  (8, 3, 128, 128)\n",
            "   Output: (8, 1, 14, 14)\n",
            "   Output range: [-3.544, 5.172]\n"
          ]
        }
      ],
      "source": [
        "# Crear batch de prueba\n",
        "batch_size = 8\n",
        "test_lab = torch.randn(batch_size, 3, 128, 128).to(device)\n",
        "\n",
        "# Forward pass\n",
        "with torch.no_grad():\n",
        "    output = discriminator(test_lab)\n",
        "\n",
        "print(f\"Forward pass exitoso\")\n",
        "print(f\"   Input:  {tuple(test_lab.shape)}\")\n",
        "print(f\"   Output: {tuple(output.shape)}\")\n",
        "print(f\"   Output range: [{output.min():.3f}, {output.max():.3f}]\")"
      ]
    },
    {
      "cell_type": "code",
      "execution_count": 7,
      "metadata": {
        "colab": {
          "base_uri": "https://localhost:8080/"
        },
        "id": "y1NXlhhLJTyd",
        "outputId": "0e490c63-ae37-4df0-f103-85eda4174437"
      },
      "outputs": [
        {
          "name": "stdout",
          "output_type": "stream",
          "text": [
            "Función de pérdida funcionando\n",
            "   Loss total:    0.8218\n",
            "   Loss real:     0.7988\n",
            "   Loss fake:     0.8449\n",
            "   Accuracy real: 51.6%\n",
            "   Accuracy fake: 46.4%\n",
            "   Accuracy avg:  49.0%\n"
          ]
        }
      ],
      "source": [
        "## Test Función de Pérdida\n",
        "\n",
        "criterion = DiscriminatorLoss(\n",
        "    real_label=RECOMMENDED_CONFIG['real_label'],\n",
        "    fake_label=RECOMMENDED_CONFIG['fake_label']\n",
        ")\n",
        "\n",
        "# Simular predicciones\n",
        "real_pred = torch.randn(batch_size, 1, 14, 14).to(device)\n",
        "fake_pred = torch.randn(batch_size, 1, 14, 14).to(device)\n",
        "\n",
        "# Calcular pérdida\n",
        "loss, real_loss, fake_loss, real_acc, fake_acc = criterion(real_pred, fake_pred)\n",
        "\n",
        "print(f\"Función de pérdida funcionando\")\n",
        "print(f\"   Loss total:    {loss.item():.4f}\")\n",
        "print(f\"   Loss real:     {real_loss.item():.4f}\")\n",
        "print(f\"   Loss fake:     {fake_loss.item():.4f}\")\n",
        "print(f\"   Accuracy real: {real_acc*100:.1f}%\")\n",
        "print(f\"   Accuracy fake: {fake_acc*100:.1f}%\")\n",
        "print(f\"   Accuracy avg:  {((real_acc + fake_acc)/2)*100:.1f}%\")\n"
      ]
    },
    {
      "cell_type": "markdown",
      "metadata": {
        "id": "dTT9O5w4JcuO"
      },
      "source": [
        "### Visualización de arquitectura"
      ]
    },
    {
      "cell_type": "code",
      "execution_count": 8,
      "metadata": {
        "colab": {
          "base_uri": "https://localhost:8080/"
        },
        "id": "vGTb9l4XJhgm",
        "outputId": "ddf06189-2b9b-4713-c55b-d2a0f310d96f"
      },
      "outputs": [
        {
          "name": "stdout",
          "output_type": "stream",
          "text": [
            "FLUJO DE DIMENSIONES\n",
            "Input (LAB):   (1, 3, 128, 128)\n",
            "Layer 1:       (1, 64, 64, 64)\n",
            "Layer 2:       (1, 128, 32, 32)\n",
            "Layer 3:       (1, 256, 16, 16)\n",
            "Layer 4:       (1, 512, 15, 15)\n",
            "Output:        (1, 1, 14, 14)\n",
            "Receptive field: ~34x34 píxeles por patch\n",
            "Total patches: 196 = 196\n"
          ]
        }
      ],
      "source": [
        "# Visualización de dimensiones\n",
        "discriminator.eval()\n",
        "x = torch.randn(1, 3, 128, 128).to(device)\n",
        "\n",
        "print(\"FLUJO DE DIMENSIONES\")\n",
        "print(f\"Input (LAB):   {tuple(x.shape)}\")\n",
        "\n",
        "with torch.no_grad():\n",
        "    x1 = discriminator.layer1(x)\n",
        "    print(f\"Layer 1:       {tuple(x1.shape)}\")\n",
        "\n",
        "    x2 = discriminator.layer2(x1)\n",
        "    print(f\"Layer 2:       {tuple(x2.shape)}\")\n",
        "\n",
        "    x3 = discriminator.layer3(x2)\n",
        "    print(f\"Layer 3:       {tuple(x3.shape)}\")\n",
        "\n",
        "    x4 = discriminator.layer4(x3)\n",
        "    print(f\"Layer 4:       {tuple(x4.shape)}\")\n",
        "\n",
        "    out = discriminator.output_layer(x4)\n",
        "    print(f\"Output:        {tuple(out.shape)}\")\n",
        "\n",
        "print(f\"Receptive field: ~34x34 píxeles por patch\")\n",
        "print(f\"Total patches: {14*14} = 196\")"
      ]
    },
    {
      "cell_type": "code",
      "execution_count": 9,
      "metadata": {
        "colab": {
          "base_uri": "https://localhost:8080/",
          "height": 807
        },
        "id": "DI2jNe0MJtul",
        "outputId": "1dd3aae6-7257-44dc-9e2b-5536c8443437"
      },
      "outputs": [
        {
          "data": {
            "image/png": "[encoded data removed]",
            "text/plain": [
              "<Figure size 800x800 with 1 Axes>"
            ]
          },
          "metadata": {},
          "output_type": "display_data"
        }
      ],
      "source": [
        "# Visualización de Patches Evaluados\n",
        "# Muestra qué regiones evalúa cada patch del discriminador\n",
        "fig, ax = plt.subplots(1, 1, figsize=(8, 8))\n",
        "\n",
        "# Crear imagen de ejemplo\n",
        "img = np.ones((128, 128, 3)) * 0.5\n",
        "\n",
        "# Tamaño aproximado de cada patch\n",
        "patch_size = 34\n",
        "stride = 128 // 14  # Aproximadamente 9 píxeles\n",
        "\n",
        "# Dibujar grid de patches\n",
        "for i in range(14):\n",
        "    for j in range(14):\n",
        "        y = i * stride\n",
        "        x = j * stride\n",
        "\n",
        "        # Dibujar rectángulo\n",
        "        rect = plt.Rectangle((x, y), patch_size, patch_size,\n",
        "                            linewidth=1, edgecolor='red',\n",
        "                            facecolor='none', alpha=0.3)\n",
        "        ax.add_patch(rect)\n",
        "\n",
        "ax.imshow(img)\n",
        "ax.set_title('Regiones evaluadas por el Discriminador\\n(14x14 = 196 patches)', fontsize=14)\n",
        "ax.set_xlabel('Cada patch rojo evalúa ~34x34 píxeles')\n",
        "ax.grid(False)\n",
        "plt.tight_layout()\n",
        "plt.show()\n"
      ]
    },
    {
      "cell_type": "markdown",
      "metadata": {
        "id": "Y7mOeCk9J8ZI"
      },
      "source": [
        "### Simulación de entrenamiento"
      ]
    },
    {
      "cell_type": "code",
      "execution_count": 10,
      "metadata": {
        "colab": {
          "base_uri": "https://localhost:8080/"
        },
        "id": "ejNihcNbKKhI",
        "outputId": "7bad3e0e-4e4e-442b-a5da-537a2d395eaa"
      },
      "outputs": [
        {
          "name": "stdout",
          "output_type": "stream",
          "text": [
            "Training step simulado\n",
            "   Loss: 0.8892\n",
            "   Gradientes clippeados a 1.0\n",
            "   Accuracy: 51.3%\n"
          ]
        }
      ],
      "source": [
        "## Simulación de Training Step\n",
        "#Simula un paso de entrenamiento del discriminador\n",
        "\n",
        "discriminator.train()\n",
        "optimizer = torch.optim.Adam(\n",
        "    discriminator.parameters(),\n",
        "    lr=RECOMMENDED_CONFIG['learning_rate'],\n",
        "    betas=RECOMMENDED_CONFIG['betas']\n",
        ")\n",
        "\n",
        "# Datos simulados\n",
        "real_lab = torch.randn(4, 3, 128, 128).to(device)\n",
        "fake_lab = torch.randn(4, 3, 128, 128).to(device)\n",
        "\n",
        "# Forward\n",
        "optimizer.zero_grad()\n",
        "real_pred = discriminator(real_lab)\n",
        "fake_pred = discriminator(fake_lab)\n",
        "\n",
        "# Loss\n",
        "loss, real_loss, fake_loss, real_acc, fake_acc = criterion(real_pred, fake_pred)\n",
        "\n",
        "# Backward\n",
        "loss.backward()\n",
        "\n",
        "# Gradient clipping\n",
        "torch.nn.utils.clip_grad_norm_(\n",
        "    discriminator.parameters(),\n",
        "    max_norm=RECOMMENDED_CONFIG['gradient_clip']\n",
        ")\n",
        "\n",
        "optimizer.step()\n",
        "\n",
        "print(f\"Training step simulado\")\n",
        "print(f\"   Loss: {loss.item():.4f}\")\n",
        "print(f\"   Gradientes clippeados a {RECOMMENDED_CONFIG['gradient_clip']}\")\n",
        "print(f\"   Accuracy: {((real_acc + fake_acc)/2)*100:.1f}%\")"
      ]
    },
    {
      "cell_type": "code",
      "execution_count": 11,
      "metadata": {
        "colab": {
          "base_uri": "https://localhost:8080/"
        },
        "id": "91658gDbB9fG",
        "outputId": "005beb8f-760e-4780-9fff-0f774c0da1fd"
      },
      "outputs": [
        {
          "name": "stdout",
          "output_type": "stream",
          "text": [
            "RESUMEN DEL DISCRIMINADOR\n",
            "Arquitectura: PatchGAN para 128x128\n",
            "Output: 14x14 patches\n",
            "Parámetros: 2,765,633\n",
            "Receptive field: ~34x34 píxeles\n",
            "Pérdida: BCEWithLogitsLoss con label smoothing\n",
            "Configuración: {'input_channels': 3, 'features': 64, 'learning_rate': 0.0002, 'betas': (0.5, 0.999), 'real_label': 0.9, 'fake_label': 0.0, 'gradient_clip': 1.0}\n"
          ]
        }
      ],
      "source": [
        "print(\"RESUMEN DEL DISCRIMINADOR\")\n",
        "print(f\"Arquitectura: PatchGAN para 128x128\")\n",
        "print(f\"Output: 14x14 patches\")\n",
        "print(f\"Parámetros: {discriminator.get_num_params():,}\")\n",
        "print(f\"Receptive field: ~34x34 píxeles\")\n",
        "print(f\"Pérdida: BCEWithLogitsLoss con label smoothing\")\n",
        "print(f\"Configuración: {RECOMMENDED_CONFIG}\")"
      ]
    }
  ],
  "metadata": {
    "colab": {
      "provenance": []
    },
    "kernelspec": {
      "display_name": "Python 3",
      "name": "python3"
    },
    "language_info": {
      "name": "python"
    }
  },
  "nbformat": 4,
  "nbformat_minor": 0
}
